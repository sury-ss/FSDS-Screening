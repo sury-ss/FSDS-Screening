{
 "cells": [
  {
   "cell_type": "markdown",
   "id": "dccaed65",
   "metadata": {},
   "source": [
    "## Data File Handling"
   ]
  },
  {
   "cell_type": "code",
   "execution_count": 1,
   "id": "924de7a7",
   "metadata": {},
   "outputs": [
    {
     "name": "stdout",
     "output_type": "stream",
     "text": [
      "Before Replacing: This is a placement assignment\n",
      "After Replacing: This is a screening assignment\n"
     ]
    }
   ],
   "source": [
    "with open('D:\\FSDS\\example.txt','r') as file :\n",
    "  filedata = file.read()\n",
    "\n",
    "print(\"Before Replacing:\",filedata)\n",
    "\n",
    "filedata = filedata.replace('placement', 'screening')\n",
    "\n",
    "with open('D:\\FSDS\\example.txt', 'w') as file:\n",
    "  file.write(filedata)\n",
    "\n",
    "print(\"After Replacing:\",filedata)"
   ]
  },
  {
   "cell_type": "markdown",
   "id": "4749140b",
   "metadata": {},
   "source": [
    "## Abstract"
   ]
  },
  {
   "cell_type": "code",
   "execution_count": 2,
   "id": "65c832f7",
   "metadata": {},
   "outputs": [
    {
     "name": "stdout",
     "output_type": "stream",
     "text": [
      "Jhonny Dep \t $9000\n",
      "Tom Holland \t $9500\n",
      "Will Smith \t $10000\n",
      "Jackie Chan \t $12500\n",
      "Kevin Hart \t $15000\n"
     ]
    }
   ],
   "source": [
    "from abc import ABC, abstractmethod\n",
    "\n",
    "class Employee(ABC):\n",
    "    def __init__(self, first_name, last_name):\n",
    "        self.first_name = first_name\n",
    "        self.last_name = last_name\n",
    "\n",
    "    @property\n",
    "    def full_name(self):\n",
    "        return f\"{self.first_name} {self.last_name}\"\n",
    "\n",
    "    @abstractmethod\n",
    "    def get_salary(self):\n",
    "        pass\n",
    "    \n",
    "class FulltimeEmployee(Employee):\n",
    "    def __init__(self, first_name, last_name, salary):\n",
    "        super().__init__(first_name, last_name)\n",
    "        self.salary = salary\n",
    "\n",
    "    def get_salary(self):\n",
    "        return self.salary\n",
    "\n",
    "class HourlyEmployee(Employee):\n",
    "    def __init__(self, first_name, last_name, worked_hours, rate):\n",
    "        super().__init__(first_name, last_name)\n",
    "        self.worked_hours = worked_hours\n",
    "        self.rate = rate\n",
    "\n",
    "    def get_salary(self):\n",
    "        return self.worked_hours * self.rate\n",
    "\n",
    "class Payroll:\n",
    "    def __init__(self):\n",
    "        self.employee_list = []\n",
    "\n",
    "    def add(self, employee):\n",
    "        self.employee_list.append(employee)\n",
    "\n",
    "    def print(self):\n",
    "        for e in self.employee_list:\n",
    "            print(f\"{e.full_name} \\t ${e.get_salary()}\")\n",
    "            \n",
    "payroll = Payroll()\n",
    "\n",
    "payroll.add(FulltimeEmployee('Jhonny', 'Dep', 9000))\n",
    "payroll.add(FulltimeEmployee('Tom', 'Holland', 9500))\n",
    "payroll.add(HourlyEmployee('Will', 'Smith', 200, 50))\n",
    "payroll.add(HourlyEmployee('Jackie', 'Chan', 125, 100))\n",
    "payroll.add(HourlyEmployee('Kevin', 'Hart', 100, 150))\n",
    "\n",
    "payroll.print()"
   ]
  },
  {
   "cell_type": "markdown",
   "id": "53d30721",
   "metadata": {},
   "source": [
    "## Multiple Inheritance"
   ]
  },
  {
   "cell_type": "code",
   "execution_count": 3,
   "id": "a4b3632a",
   "metadata": {},
   "outputs": [
    {
     "name": "stdout",
     "output_type": "stream",
     "text": [
      "Thor is the best\n",
      "Superman is the best\n"
     ]
    }
   ],
   "source": [
    "class Marvel:\n",
    "    def avengers(self):\n",
    "        print('Thor is the best')\n",
    "        \n",
    "class DC:\n",
    "    def justice_league(self):\n",
    "        print('Superman is the best')\n",
    "        \n",
    "class Superhero(Marvel, DC):\n",
    "    pass\n",
    "\n",
    "if __name__ == '__main__':\n",
    "    s = Superhero()\n",
    "    s.avengers()\n",
    "    s.justice_league()        "
   ]
  },
  {
   "cell_type": "markdown",
   "id": "328344e7",
   "metadata": {},
   "source": [
    "## Decorator"
   ]
  },
  {
   "cell_type": "code",
   "execution_count": 4,
   "id": "2e53126e",
   "metadata": {},
   "outputs": [
    {
     "name": "stdout",
     "output_type": "stream",
     "text": [
      "******************************\n",
      "%%%%%%%%%%%%%%%%%%%%%%%%%%%%%%\n",
      "Hello world\n",
      "%%%%%%%%%%%%%%%%%%%%%%%%%%%%%%\n",
      "******************************\n"
     ]
    }
   ],
   "source": [
    "def star(func):\n",
    "    def inner(*args, **kwargs):\n",
    "        print(\"*\" * 30)\n",
    "        func(*args, **kwargs)\n",
    "        print(\"*\" * 30)\n",
    "    return inner\n",
    "\n",
    "\n",
    "def percent(func):\n",
    "    def inner(*args, **kwargs):\n",
    "        print(\"%\" * 30)\n",
    "        func(*args, **kwargs)\n",
    "        print(\"%\" * 30)\n",
    "    return inner\n",
    "\n",
    "def printer(msg):\n",
    "    print(msg)\n",
    "printer = star(percent(printer))\n",
    "\n",
    "printer(\"Hello world\")"
   ]
  }
 ],
 "metadata": {
  "kernelspec": {
   "display_name": "Python 3 (ipykernel)",
   "language": "python",
   "name": "python3"
  },
  "language_info": {
   "codemirror_mode": {
    "name": "ipython",
    "version": 3
   },
   "file_extension": ".py",
   "mimetype": "text/x-python",
   "name": "python",
   "nbconvert_exporter": "python",
   "pygments_lexer": "ipython3",
   "version": "3.9.7"
  }
 },
 "nbformat": 4,
 "nbformat_minor": 5
}
